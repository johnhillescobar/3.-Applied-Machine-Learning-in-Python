{
 "cells": [
  {
   "cell_type": "markdown",
   "metadata": {},
   "source": [
    "---\n",
    "\n",
    "_You are currently looking at **version 1.1** of this notebook. To download notebooks and datafiles, as well as get help on Jupyter notebooks in the Coursera platform, visit the [Jupyter Notebook FAQ](https://www.coursera.org/learn/python-machine-learning/resources/bANLa) course resource._\n",
    "\n",
    "---"
   ]
  },
  {
   "cell_type": "markdown",
   "metadata": {},
   "source": [
    "## Assignment 4 - Understanding and Predicting Property Maintenance Fines\n",
    "\n",
    "This assignment is based on a data challenge from the Michigan Data Science Team ([MDST](http://midas.umich.edu/mdst/)). \n",
    "\n",
    "The Michigan Data Science Team ([MDST](http://midas.umich.edu/mdst/)) and the Michigan Student Symposium for Interdisciplinary Statistical Sciences ([MSSISS](https://sites.lsa.umich.edu/mssiss/)) have partnered with the City of Detroit to help solve one of the most pressing problems facing Detroit - blight. [Blight violations](http://www.detroitmi.gov/How-Do-I/Report/Blight-Complaint-FAQs) are issued by the city to individuals who allow their properties to remain in a deteriorated condition. Every year, the city of Detroit issues millions of dollars in fines to residents and every year, many of these fines remain unpaid. Enforcing unpaid blight fines is a costly and tedious process, so the city wants to know: how can we increase blight ticket compliance?\n",
    "\n",
    "The first step in answering this question is understanding when and why a resident might fail to comply with a blight ticket. This is where predictive modeling comes in. For this assignment, your task is to predict whether a given blight ticket will be paid on time.\n",
    "\n",
    "All data for this assignment has been provided to us through the [Detroit Open Data Portal](https://data.detroitmi.gov/). **Only the data already included in your Coursera directory can be used for training the model for this assignment.** Nonetheless, we encourage you to look into data from other Detroit datasets to help inform feature creation and model selection. We recommend taking a look at the following related datasets:\n",
    "\n",
    "* [Building Permits](https://data.detroitmi.gov/Property-Parcels/Building-Permits/xw2a-a7tf)\n",
    "* [Trades Permits](https://data.detroitmi.gov/Property-Parcels/Trades-Permits/635b-dsgv)\n",
    "* [Improve Detroit: Submitted Issues](https://data.detroitmi.gov/Government/Improve-Detroit-Submitted-Issues/fwz3-w3yn)\n",
    "* [DPD: Citizen Complaints](https://data.detroitmi.gov/Public-Safety/DPD-Citizen-Complaints-2016/kahe-efs3)\n",
    "* [Parcel Map](https://data.detroitmi.gov/Property-Parcels/Parcel-Map/fxkw-udwf)\n",
    "\n",
    "___\n",
    "\n",
    "We provide you with two data files for use in training and validating your models: train.csv and test.csv. Each row in these two files corresponds to a single blight ticket, and includes information about when, why, and to whom each ticket was issued. The target variable is compliance, which is True if the ticket was paid early, on time, or within one month of the hearing data, False if the ticket was paid after the hearing date or not at all, and Null if the violator was found not responsible. Compliance, as well as a handful of other variables that will not be available at test-time, are only included in train.csv.\n",
    "\n",
    "Note: All tickets where the violators were found not responsible are not considered during evaluation. They are included in the training set as an additional source of data for visualization, and to enable unsupervised and semi-supervised approaches. However, they are not included in the test set.\n",
    "\n",
    "<br>\n",
    "\n",
    "**File descriptions** (Use only this data for training your model!)\n",
    "\n",
    "    readonly/train.csv - the training set (all tickets issued 2004-2011)\n",
    "    readonly/test.csv - the test set (all tickets issued 2012-2016)\n",
    "    readonly/addresses.csv & readonly/latlons.csv - mapping from ticket id to addresses, and from addresses to lat/lon coordinates. \n",
    "     Note: misspelled addresses may be incorrectly geolocated.\n",
    "\n",
    "<br>\n",
    "\n",
    "**Data fields**\n",
    "\n",
    "train.csv & test.csv\n",
    "\n",
    "    ticket_id - unique identifier for tickets\n",
    "    agency_name - Agency that issued the ticket\n",
    "    inspector_name - Name of inspector that issued the ticket\n",
    "    violator_name - Name of the person/organization that the ticket was issued to\n",
    "    violation_street_number, violation_street_name, violation_zip_code - Address where the violation occurred\n",
    "    mailing_address_str_number, mailing_address_str_name, city, state, zip_code, non_us_str_code, country - Mailing address of the violator\n",
    "    ticket_issued_date - Date and time the ticket was issued\n",
    "    hearing_date - Date and time the violator's hearing was scheduled\n",
    "    violation_code, violation_description - Type of violation\n",
    "    disposition - Judgment and judgement type\n",
    "    fine_amount - Violation fine amount, excluding fees\n",
    "    admin_fee - $20 fee assigned to responsible judgments\n",
    "state_fee - $10 fee assigned to responsible judgments\n",
    "    late_fee - 10% fee assigned to responsible judgments\n",
    "    discount_amount - discount applied, if any\n",
    "    clean_up_cost - DPW clean-up or graffiti removal cost\n",
    "    judgment_amount - Sum of all fines and fees\n",
    "    grafitti_status - Flag for graffiti violations\n",
    "    \n",
    "train.csv only\n",
    "\n",
    "    payment_amount - Amount paid, if any\n",
    "    payment_date - Date payment was made, if it was received\n",
    "    payment_status - Current payment status as of Feb 1 2017\n",
    "    balance_due - Fines and fees still owed\n",
    "    collection_status - Flag for payments in collections\n",
    "    compliance [target variable for prediction] \n",
    "     Null = Not responsible\n",
    "     0 = Responsible, non-compliant\n",
    "     1 = Responsible, compliant\n",
    "    compliance_detail - More information on why each ticket was marked compliant or non-compliant\n",
    "\n",
    "\n",
    "___\n",
    "\n",
    "## Evaluation\n",
    "\n",
    "Your predictions will be given as the probability that the corresponding blight ticket will be paid on time.\n",
    "\n",
    "The evaluation metric for this assignment is the Area Under the ROC Curve (AUC). \n",
    "\n",
    "Your grade will be based on the AUC score computed for your classifier. A model which with an AUROC of 0.7 passes this assignment, over 0.75 will recieve full points.\n",
    "___\n",
    "\n",
    "For this assignment, create a function that trains a model to predict blight ticket compliance in Detroit using `readonly/train.csv`. Using this model, return a series of length 61001 with the data being the probability that each corresponding ticket from `readonly/test.csv` will be paid, and the index being the ticket_id.\n",
    "\n",
    "Example:\n",
    "\n",
    "    ticket_id\n",
    "       284932    0.531842\n",
    "       285362    0.401958\n",
    "       285361    0.105928\n",
    "       285338    0.018572\n",
    "                 ...\n",
    "       376499    0.208567\n",
    "       376500    0.818759\n",
    "       369851    0.018528\n",
    "       Name: compliance, dtype: float32\n",
    "       \n",
    "### Hints\n",
    "\n",
    "* Make sure your code is working before submitting it to the autograder.\n",
    "\n",
    "* Print out your result to see whether there is anything weird (e.g., all probabilities are the same).\n",
    "\n",
    "* Generally the total runtime should be less than 10 mins. You should NOT use Neural Network related classifiers (e.g., MLPClassifier) in this question. \n",
    "\n",
    "* Try to avoid global variables. If you have other functions besides blight_model, you should move those functions inside the scope of blight_model.\n",
    "\n",
    "* Refer to the pinned threads in Week 4's discussion forum when there is something you could not figure it out."
   ]
  },
  {
   "cell_type": "code",
   "execution_count": 1,
   "metadata": {
    "collapsed": true
   },
   "outputs": [],
   "source": [
    "def format_df(df, mask):\n",
    "    \"\"\"\n",
    "    This function adjust dates, calculate the number of days between the date \n",
    "    the ticket is issued and the date of the hearing, and fill null values in a dataframe \n",
    "    \"\"\"\n",
    "    \n",
    "    # Import relevant libraries\n",
    "    import pandas as pd\n",
    "    import numpy as np\n",
    "    from datetime import datetime\n",
    "    import datetime as dt\n",
    "    \n",
    "    # Create a copy of the dataframe to avoid SettinWithCopyWarnings\n",
    "    df = df.copy()\n",
    "    \n",
    "    # Call and adjust the mask according to the dataframe we are going to use\n",
    "    try:\n",
    "        # For our train dataset\n",
    "        df = df[mask]\n",
    "    except:\n",
    "        # For our test dataset\n",
    "        df = df[mask[:-1]]\n",
    "    \n",
    "    # Adjust time features and create a date_diff variable\n",
    "    df['hearing_date'] = pd.to_datetime(df['hearing_date'], errors = 'coerce')\n",
    "    df['hearing_date'] = df['hearing_date'].fillna(method = 'pad')\n",
    "    df['ticket_issued_date'] = pd.to_datetime(df['ticket_issued_date'], errors = 'coerce')\n",
    "    df['ticket_issued_date'] = df['ticket_issued_date'].fillna(method = 'pad')\n",
    "    df['date_diff'] = (df['hearing_date'] - df['ticket_issued_date'])\n",
    "    df['date_diff'] = df['date_diff'].dt.days\n",
    "    \n",
    "    # Fill nulls in the rest of the features in our dataframe\n",
    "    for column in df.columns:\n",
    "        df[column] = df[column].fillna(method = 'pad')\n",
    "    \n",
    "    # Return dataframe\n",
    "    return df\n",
    "\n",
    "def assign_categories(df, mask, remove):\n",
    "    \"\"\"\n",
    "    This function convert selected features into categories.  Converting features into categories\n",
    "    reduce the processing time into our ML model\n",
    "    \"\"\"\n",
    "    # Import relevant libraries\n",
    "    import pandas as pd\n",
    "    import numpy as np\n",
    "    from datetime import datetime\n",
    "    import datetime as dt\n",
    "    \n",
    "    # Create a copy of the dataframe to avoid SettinWithCopyWarnings\n",
    "    df = df.copy()\n",
    "    \n",
    "    # Define mask for categories\n",
    "    category_mask = [i for i in mask if i not in remove]\n",
    "    \n",
    "    # Convert features into categories\n",
    "    try:\n",
    "        # For our train dataset\n",
    "        for col in category_mask:\n",
    "            df[col] = df[col].astype('category')\n",
    "        #df[category_mask] = df[category_mask].astype('category') # This works in Python 3.5.4\n",
    "    except:\n",
    "        # For our test dataset\n",
    "        for col in category_mask[:-1]:\n",
    "            df[col] = df[col].astype('category')\n",
    "        #df[category_mask[:-1]] = df[category_mask[:-1]].astype('category') # This works in Python 3.5.4\n",
    "    \n",
    "    # Return dataframe\n",
    "    return df"
   ]
  },
  {
   "cell_type": "code",
   "execution_count": 2,
   "metadata": {},
   "outputs": [
    {
     "name": "stdout",
     "output_type": "stream",
     "text": [
      "Grid best parameter (max. AUC):  {'n_estimators': 100, 'max_depth': 30}\n",
      "Grid best score (AUC):  0.7985928598772787\n"
     ]
    },
    {
     "data": {
      "text/plain": [
       "ticket_id\n",
       "284932    0.130000\n",
       "285362    0.043042\n",
       "285361    0.122727\n",
       "285338    0.000000\n",
       "285346    0.180960\n",
       "285345    0.010000\n",
       "285347    0.040254\n",
       "285342    0.940000\n",
       "285530    0.000000\n",
       "284989    0.000000\n",
       "285344    0.001392\n",
       "285343    0.000054\n",
       "285340    0.000054\n",
       "285341    0.052078\n",
       "285349    0.270000\n",
       "285348    0.040000\n",
       "284991    0.010370\n",
       "285532    0.000000\n",
       "285406    0.001847\n",
       "285001    0.021471\n",
       "285006    0.030054\n",
       "285405    0.000000\n",
       "285337    0.020000\n",
       "285496    0.018324\n",
       "285497    0.041523\n",
       "285378    0.000000\n",
       "285589    0.020208\n",
       "285585    0.070797\n",
       "285501    0.084099\n",
       "285581    0.001155\n",
       "            ...   \n",
       "376367    0.011375\n",
       "376366    0.023464\n",
       "376362    0.036821\n",
       "376363    0.086821\n",
       "376365    0.011375\n",
       "376364    0.023464\n",
       "376228    0.052077\n",
       "376265    0.233708\n",
       "376286    0.050000\n",
       "376320    0.056381\n",
       "376314    0.031403\n",
       "376327    0.281608\n",
       "376385    0.287262\n",
       "376435    0.870000\n",
       "376370    0.960000\n",
       "376434    0.003650\n",
       "376459    0.120956\n",
       "376478    0.000000\n",
       "376473    0.026292\n",
       "376484    0.020000\n",
       "376482    0.100000\n",
       "376480    0.050000\n",
       "376479    0.050000\n",
       "376481    0.050000\n",
       "376483    0.071242\n",
       "376496    0.001218\n",
       "376497    0.001218\n",
       "376499    0.044370\n",
       "376500    0.044370\n",
       "369851    0.720000\n",
       "Length: 61001, dtype: float64"
      ]
     },
     "execution_count": 2,
     "metadata": {},
     "output_type": "execute_result"
    }
   ],
   "source": [
    "def blight_model():\n",
    "    \"\"\"\n",
    "    Last update: 03/10/2019\n",
    "    Author: John Hill Escobar\n",
    "    \n",
    "    This function intends to build up a series with the probabilities that \n",
    "    the corresponding blight ticket will be paid on time.\n",
    "\n",
    "    The evaluation metric for this assignment is the Area Under the ROC Curve (AUC).\n",
    "    \n",
    "    This is the last evaluation of the course Applied Machine Learning with Python\n",
    "    \"\"\"\n",
    "    \n",
    "    # Import relevant libraries\n",
    "    import pandas as pd\n",
    "    import numpy as np\n",
    "    from datetime import datetime\n",
    "    import datetime as dt\n",
    "    from sklearn.preprocessing import LabelEncoder\n",
    "    from sklearn.ensemble import RandomForestRegressor, RandomForestClassifier, GradientBoostingClassifier\n",
    "    from sklearn.model_selection import train_test_split, GridSearchCV\n",
    "    from sklearn.metrics import roc_auc_score, roc_curve, auc\n",
    "    from sklearn.naive_bayes import GaussianNB\n",
    "    from sklearn.svm import SVC\n",
    "    \n",
    "    # Read dataframes\n",
    "    # I included the argument dtype on the training dataset to avoid a DtypeWarning on columns (11, 12, 31)\n",
    "    train = pd.read_csv('readonly/train.csv', encoding='cp1252', \n",
    "                           dtype = {'zip_code': object, 'non_us_str_code': object, 'grafitti_status': object})\n",
    "    test = pd.read_csv('readonly/test.csv', encoding='cp1252')\n",
    "    address = pd.read_csv('readonly/addresses.csv')\n",
    "    latlong = pd.read_csv('readonly/latlons.csv')\n",
    "    \n",
    "    # Join address and latlong in one dataframe.  Then, join address to both train and test data\n",
    "    address = address.set_index('address').join(latlong.set_index('address'), how = 'left')\n",
    "    train = train.set_index('ticket_id').join(address.set_index('ticket_id'), how = 'left')\n",
    "    test = test.set_index('ticket_id').join(address.set_index('ticket_id'), how = 'left')\n",
    "    \n",
    "    # Drop NaN on target value 'compliance' --> we are just looking for compliants and or not compliants\n",
    "    # Although the target variable 'compliance' is dtype('float64'). So, I will adjust it\n",
    "    # to meake it categorical\n",
    "    train = train.dropna(subset = ['compliance'])\n",
    "    train['compliance'] = train['compliance'].astype(int)\n",
    "    \n",
    "    # I created a spreadsheet in which I stored the features I wanted to use on the training and\n",
    "    # and testing dataframes.  Then, I created the mask from there.\n",
    "    #mask = pd.read_excel('model_columns_final.xlsx')\n",
    "    #mask = mask['columnas']\n",
    "    #mask = mask.tolist()\n",
    "    \n",
    "    # I commented out this part of the code as the autograder will get an error from it.\n",
    "    # Instead, I just created a variable called \"mask\", which I used to keep all the attributions \n",
    "    # I will use on this excercise.\n",
    "    \n",
    "    # Create the mask variables with all the variables you want to use\n",
    "    mask = ['hearing_date', \n",
    "            'ticket_issued_date', \n",
    "            'discount_amount',\n",
    "            'disposition', \n",
    "            'fine_amount', \n",
    "            'judgment_amount', \n",
    "            'late_fee', \n",
    "            'state', \n",
    "            'violation_code', \n",
    "            'lat',\n",
    "            'lon',\n",
    "            'compliance']\n",
    "    \n",
    "    # Create the final training dataframe and adjust its data types as well as create a new variable \n",
    "    # named \"date_diff\"\n",
    "    train = format_df(train, mask)\n",
    "    \n",
    "    # Create the final test dataframe and adjust its data types as well as create a new variable \n",
    "    # named \"date_diff\"\n",
    "    test = format_df(test, mask)\n",
    "    \n",
    "    # Create features to remove from our mask to change the features to category, when applicable\n",
    "    # Create the mask variables with all the variables you want to use\n",
    "    remove = {'hearing_date',\n",
    "              'ticket_issued_date',\n",
    "              'lat',\n",
    "              'lon'}\n",
    "    \n",
    "    # Convert applicable features into categories\n",
    "    train  = assign_categories(train, mask, remove)\n",
    "    test  = assign_categories(test, mask, remove)\n",
    "    \n",
    "    \n",
    "    # Define y_train, X_train, and X_test\n",
    "    y_train = train['compliance'].copy()\n",
    "    X_train = train.drop('compliance', axis = 1).copy()\n",
    "    X_test = test.copy()\n",
    "    \n",
    "    # Label encode your categorical features\n",
    "    label_encoder = LabelEncoder()\n",
    "\n",
    "    for col in X_train.select_dtypes(include=['category']).columns:\n",
    "        label_encoder.fit(X_train[col].append(X_test[col], ignore_index = True))\n",
    "        X_train[col] = label_encoder.transform(X_train[col])\n",
    "        X_test[col] = label_encoder.transform(X_test[col])\n",
    "    \n",
    "    # At this poing, we will get an error when running our model we keep our dates.   \n",
    "    # Therefore, I am dropping them\n",
    "    X_train = X_train.drop(['hearing_date', 'ticket_issued_date'], axis = 1)\n",
    "    X_test = X_test.drop(['hearing_date', 'ticket_issued_date'], axis = 1)\n",
    "    \n",
    "    # Finally, let's run our random forest model\n",
    "    X_trainer, X_tester, y_trainer, y_tester = train_test_split(X_train, y_train)\n",
    "    \n",
    "    regr_rf = RandomForestRegressor()\n",
    "    grid_values = {'n_estimators': [10, 100], 'max_depth': [None, 30]}\n",
    "    grid_clf_auc = GridSearchCV(regr_rf, param_grid=grid_values, scoring='roc_auc')\n",
    "    grid_clf_auc.fit(X_trainer, y_trainer)\n",
    "    print('Grid best parameter (max. AUC): ', grid_clf_auc.best_params_)\n",
    "    print('Grid best score (AUC): ', grid_clf_auc.best_score_)\n",
    "    answer = pd.Series(grid_clf_auc.predict(X_test),index=X_test.index)\n",
    "    \n",
    "        \n",
    "    # Return probalities series\n",
    "    return answer\n",
    "\n",
    "blight_model()"
   ]
  },
  {
   "cell_type": "code",
   "execution_count": 3,
   "metadata": {
    "collapsed": true
   },
   "outputs": [],
   "source": [
    "import pandas as pd\n",
    "import numpy as np\n",
    "from datetime import datetime\n",
    "import datetime as dt\n",
    "from sklearn.preprocessing import LabelEncoder\n",
    "from sklearn.ensemble import RandomForestRegressor, RandomForestClassifier, GradientBoostingClassifier\n",
    "from sklearn.model_selection import train_test_split, GridSearchCV\n",
    "from sklearn.metrics import roc_auc_score, roc_curve, auc\n",
    "from sklearn.naive_bayes import GaussianNB\n",
    "from sklearn.svm import SVC"
   ]
  },
  {
   "cell_type": "code",
   "execution_count": 4,
   "metadata": {
    "collapsed": true
   },
   "outputs": [],
   "source": [
    "train = pd.read_csv('readonly/train.csv', encoding='cp1252', \n",
    "                           dtype = {'zip_code': object, 'non_us_str_code': object, 'grafitti_status': object})\n",
    "test = pd.read_csv('readonly/test.csv', encoding='cp1252')\n",
    "address = pd.read_csv('readonly/addresses.csv')\n",
    "latlong = pd.read_csv('readonly/latlons.csv')"
   ]
  },
  {
   "cell_type": "code",
   "execution_count": 5,
   "metadata": {},
   "outputs": [
    {
     "data": {
      "text/plain": [
       "(250306, 34)"
      ]
     },
     "execution_count": 5,
     "metadata": {},
     "output_type": "execute_result"
    }
   ],
   "source": [
    "train.shape"
   ]
  },
  {
   "cell_type": "code",
   "execution_count": 6,
   "metadata": {},
   "outputs": [
    {
     "data": {
      "text/plain": [
       "(61001, 27)"
      ]
     },
     "execution_count": 6,
     "metadata": {},
     "output_type": "execute_result"
    }
   ],
   "source": [
    "test.shape"
   ]
  },
  {
   "cell_type": "code",
   "execution_count": 7,
   "metadata": {
    "collapsed": true
   },
   "outputs": [],
   "source": [
    "# Drop NaN on target value 'compliance' --> we are just looking for compliants and or not compliants\n",
    "# Although the target variable 'compliance' is dtype('float64'). So, I will adjust it\n",
    "# to meake it categorical\n",
    "train = train.dropna(subset = ['compliance'])\n",
    "train['compliance'] = train['compliance'].astype(int)"
   ]
  },
  {
   "cell_type": "code",
   "execution_count": 8,
   "metadata": {
    "collapsed": true
   },
   "outputs": [],
   "source": [
    "# Join address and latlong in one dataframe.  Then, join address to both train and test data\n",
    "address = address.set_index('address').join(latlong.set_index('address'), how = 'left')\n",
    "train = train.set_index('ticket_id').join(address.set_index('ticket_id'), how = 'left')\n",
    "test = test.set_index('ticket_id').join(address.set_index('ticket_id'), how = 'left')"
   ]
  },
  {
   "cell_type": "code",
   "execution_count": 9,
   "metadata": {},
   "outputs": [
    {
     "data": {
      "text/plain": [
       "(159880, 35)"
      ]
     },
     "execution_count": 9,
     "metadata": {},
     "output_type": "execute_result"
    }
   ],
   "source": [
    "train.shape"
   ]
  },
  {
   "cell_type": "code",
   "execution_count": 10,
   "metadata": {},
   "outputs": [
    {
     "data": {
      "text/plain": [
       "(61001, 28)"
      ]
     },
     "execution_count": 10,
     "metadata": {},
     "output_type": "execute_result"
    }
   ],
   "source": [
    "test.shape"
   ]
  },
  {
   "cell_type": "code",
   "execution_count": 11,
   "metadata": {
    "collapsed": true
   },
   "outputs": [],
   "source": [
    "# Create the mask variables with all the variables you want to use\n",
    "mask = ['hearing_date', \n",
    "        'ticket_issued_date', \n",
    "        'discount_amount',\n",
    "        'disposition', \n",
    "        'fine_amount', \n",
    "        'judgment_amount', \n",
    "        'late_fee', \n",
    "        'state', \n",
    "        'violation_code', \n",
    "        'lat',\n",
    "        'lon',\n",
    "        'compliance']"
   ]
  },
  {
   "cell_type": "code",
   "execution_count": 12,
   "metadata": {
    "collapsed": true
   },
   "outputs": [],
   "source": [
    "train = train[mask] #.dropna()\n",
    "train['hearing_date'] = pd.to_datetime(train['hearing_date'], errors = 'coerce')\n",
    "train['hearing_date'] = train['hearing_date'].fillna(method = 'pad')\n",
    "train['ticket_issued_date'] = pd.to_datetime(train['ticket_issued_date'], errors = 'coerce')\n",
    "train['ticket_issued_date'] = train['ticket_issued_date'].fillna(method = 'pad')\n",
    "train['date_diff'] = (train['hearing_date'] - train['ticket_issued_date'])\n",
    "train['date_diff'] = train['date_diff'].dt.days\n",
    "#train = train[~train['date_diff'] < 0]"
   ]
  },
  {
   "cell_type": "code",
   "execution_count": 13,
   "metadata": {},
   "outputs": [
    {
     "data": {
      "text/plain": [
       "(159880, 13)"
      ]
     },
     "execution_count": 13,
     "metadata": {},
     "output_type": "execute_result"
    }
   ],
   "source": [
    "train.shape"
   ]
  },
  {
   "cell_type": "code",
   "execution_count": 14,
   "metadata": {
    "collapsed": true
   },
   "outputs": [],
   "source": [
    "def test_df(df, mask):\n",
    "    try:\n",
    "        return test[mask]\n",
    "    except:\n",
    "        return test[mask[:-2]]\n",
    "    \n",
    "#test = test_df(test, mask)\n",
    "#test"
   ]
  },
  {
   "cell_type": "code",
   "execution_count": 15,
   "metadata": {},
   "outputs": [
    {
     "data": {
      "text/html": [
       "<div>\n",
       "<style scoped>\n",
       "    .dataframe tbody tr th:only-of-type {\n",
       "        vertical-align: middle;\n",
       "    }\n",
       "\n",
       "    .dataframe tbody tr th {\n",
       "        vertical-align: top;\n",
       "    }\n",
       "\n",
       "    .dataframe thead th {\n",
       "        text-align: right;\n",
       "    }\n",
       "</style>\n",
       "<table border=\"1\" class=\"dataframe\">\n",
       "  <thead>\n",
       "    <tr style=\"text-align: right;\">\n",
       "      <th></th>\n",
       "      <th>hearing_date</th>\n",
       "      <th>ticket_issued_date</th>\n",
       "      <th>discount_amount</th>\n",
       "      <th>disposition</th>\n",
       "      <th>fine_amount</th>\n",
       "      <th>judgment_amount</th>\n",
       "      <th>late_fee</th>\n",
       "      <th>state</th>\n",
       "      <th>violation_code</th>\n",
       "      <th>lat</th>\n",
       "      <th>lon</th>\n",
       "      <th>compliance</th>\n",
       "      <th>date_diff</th>\n",
       "    </tr>\n",
       "    <tr>\n",
       "      <th>ticket_id</th>\n",
       "      <th></th>\n",
       "      <th></th>\n",
       "      <th></th>\n",
       "      <th></th>\n",
       "      <th></th>\n",
       "      <th></th>\n",
       "      <th></th>\n",
       "      <th></th>\n",
       "      <th></th>\n",
       "      <th></th>\n",
       "      <th></th>\n",
       "      <th></th>\n",
       "      <th></th>\n",
       "    </tr>\n",
       "  </thead>\n",
       "  <tbody>\n",
       "    <tr>\n",
       "      <th>22056</th>\n",
       "      <td>2005-03-21 10:30:00</td>\n",
       "      <td>2004-03-16 11:40:00</td>\n",
       "      <td>0.0</td>\n",
       "      <td>Responsible by Default</td>\n",
       "      <td>250.0</td>\n",
       "      <td>305.0</td>\n",
       "      <td>25.0</td>\n",
       "      <td>IL</td>\n",
       "      <td>9-1-36(a)</td>\n",
       "      <td>42.390729</td>\n",
       "      <td>-83.124268</td>\n",
       "      <td>0</td>\n",
       "      <td>369</td>\n",
       "    </tr>\n",
       "    <tr>\n",
       "      <th>27586</th>\n",
       "      <td>2005-05-06 13:30:00</td>\n",
       "      <td>2004-04-23 12:30:00</td>\n",
       "      <td>0.0</td>\n",
       "      <td>Responsible by Determination</td>\n",
       "      <td>750.0</td>\n",
       "      <td>855.0</td>\n",
       "      <td>75.0</td>\n",
       "      <td>MI</td>\n",
       "      <td>61-63.0600</td>\n",
       "      <td>42.326937</td>\n",
       "      <td>-83.135118</td>\n",
       "      <td>1</td>\n",
       "      <td>378</td>\n",
       "    </tr>\n",
       "    <tr>\n",
       "      <th>22046</th>\n",
       "      <td>2005-03-21 10:30:00</td>\n",
       "      <td>2004-05-01 11:50:00</td>\n",
       "      <td>0.0</td>\n",
       "      <td>Responsible by Default</td>\n",
       "      <td>250.0</td>\n",
       "      <td>305.0</td>\n",
       "      <td>25.0</td>\n",
       "      <td>CA</td>\n",
       "      <td>9-1-36(a)</td>\n",
       "      <td>42.145257</td>\n",
       "      <td>-83.208233</td>\n",
       "      <td>0</td>\n",
       "      <td>323</td>\n",
       "    </tr>\n",
       "    <tr>\n",
       "      <th>18738</th>\n",
       "      <td>2005-02-22 15:00:00</td>\n",
       "      <td>2004-06-14 14:15:00</td>\n",
       "      <td>0.0</td>\n",
       "      <td>Responsible by Default</td>\n",
       "      <td>750.0</td>\n",
       "      <td>855.0</td>\n",
       "      <td>75.0</td>\n",
       "      <td>MI</td>\n",
       "      <td>61-63.0500</td>\n",
       "      <td>42.433466</td>\n",
       "      <td>-83.023493</td>\n",
       "      <td>0</td>\n",
       "      <td>253</td>\n",
       "    </tr>\n",
       "    <tr>\n",
       "      <th>18735</th>\n",
       "      <td>2005-02-22 15:00:00</td>\n",
       "      <td>2004-06-16 12:30:00</td>\n",
       "      <td>0.0</td>\n",
       "      <td>Responsible by Default</td>\n",
       "      <td>100.0</td>\n",
       "      <td>140.0</td>\n",
       "      <td>10.0</td>\n",
       "      <td>MI</td>\n",
       "      <td>61-63.0100</td>\n",
       "      <td>42.388641</td>\n",
       "      <td>-83.037858</td>\n",
       "      <td>0</td>\n",
       "      <td>251</td>\n",
       "    </tr>\n",
       "  </tbody>\n",
       "</table>\n",
       "</div>"
      ],
      "text/plain": [
       "                 hearing_date  ticket_issued_date  discount_amount  \\\n",
       "ticket_id                                                            \n",
       "22056     2005-03-21 10:30:00 2004-03-16 11:40:00              0.0   \n",
       "27586     2005-05-06 13:30:00 2004-04-23 12:30:00              0.0   \n",
       "22046     2005-03-21 10:30:00 2004-05-01 11:50:00              0.0   \n",
       "18738     2005-02-22 15:00:00 2004-06-14 14:15:00              0.0   \n",
       "18735     2005-02-22 15:00:00 2004-06-16 12:30:00              0.0   \n",
       "\n",
       "                            disposition  fine_amount  judgment_amount  \\\n",
       "ticket_id                                                               \n",
       "22056            Responsible by Default        250.0            305.0   \n",
       "27586      Responsible by Determination        750.0            855.0   \n",
       "22046            Responsible by Default        250.0            305.0   \n",
       "18738            Responsible by Default        750.0            855.0   \n",
       "18735            Responsible by Default        100.0            140.0   \n",
       "\n",
       "           late_fee state violation_code        lat        lon  compliance  \\\n",
       "ticket_id                                                                    \n",
       "22056          25.0    IL      9-1-36(a)  42.390729 -83.124268           0   \n",
       "27586          75.0    MI     61-63.0600  42.326937 -83.135118           1   \n",
       "22046          25.0    CA      9-1-36(a)  42.145257 -83.208233           0   \n",
       "18738          75.0    MI     61-63.0500  42.433466 -83.023493           0   \n",
       "18735          10.0    MI     61-63.0100  42.388641 -83.037858           0   \n",
       "\n",
       "           date_diff  \n",
       "ticket_id             \n",
       "22056            369  \n",
       "27586            378  \n",
       "22046            323  \n",
       "18738            253  \n",
       "18735            251  "
      ]
     },
     "execution_count": 15,
     "metadata": {},
     "output_type": "execute_result"
    }
   ],
   "source": [
    "def format_df(df, mask):\n",
    "    df = df.copy()\n",
    "    try:\n",
    "        df = df[mask] #.dropna()\n",
    "    except:\n",
    "        df = df[mask[:-1]]\n",
    "        \n",
    "    df['hearing_date'] = pd.to_datetime(df['hearing_date'], errors = 'coerce')\n",
    "    df['hearing_date'] = df['hearing_date'].fillna(method = 'pad')\n",
    "    df['ticket_issued_date'] = pd.to_datetime(df['ticket_issued_date'], errors = 'coerce')\n",
    "    df['ticket_issued_date'] = df['ticket_issued_date'].fillna(method = 'pad')\n",
    "    df['date_diff'] = (df['hearing_date'] - df['ticket_issued_date'])\n",
    "    df['date_diff'] = df['date_diff'].dt.days\n",
    "    for column in df.columns:\n",
    "        df[column] = df[column].fillna(method = 'pad')\n",
    "    \n",
    "    return df\n",
    "\n",
    "train = format_df(train, mask)\n",
    "train.head()"
   ]
  },
  {
   "cell_type": "code",
   "execution_count": 16,
   "metadata": {},
   "outputs": [
    {
     "data": {
      "text/plain": [
       "(159880, 13)"
      ]
     },
     "execution_count": 16,
     "metadata": {},
     "output_type": "execute_result"
    }
   ],
   "source": [
    "train.shape"
   ]
  },
  {
   "cell_type": "code",
   "execution_count": 17,
   "metadata": {},
   "outputs": [
    {
     "data": {
      "text/html": [
       "<div>\n",
       "<style scoped>\n",
       "    .dataframe tbody tr th:only-of-type {\n",
       "        vertical-align: middle;\n",
       "    }\n",
       "\n",
       "    .dataframe tbody tr th {\n",
       "        vertical-align: top;\n",
       "    }\n",
       "\n",
       "    .dataframe thead th {\n",
       "        text-align: right;\n",
       "    }\n",
       "</style>\n",
       "<table border=\"1\" class=\"dataframe\">\n",
       "  <thead>\n",
       "    <tr style=\"text-align: right;\">\n",
       "      <th></th>\n",
       "      <th>hearing_date</th>\n",
       "      <th>ticket_issued_date</th>\n",
       "      <th>discount_amount</th>\n",
       "      <th>disposition</th>\n",
       "      <th>fine_amount</th>\n",
       "      <th>judgment_amount</th>\n",
       "      <th>late_fee</th>\n",
       "      <th>state</th>\n",
       "      <th>violation_code</th>\n",
       "      <th>lat</th>\n",
       "      <th>lon</th>\n",
       "      <th>date_diff</th>\n",
       "    </tr>\n",
       "    <tr>\n",
       "      <th>ticket_id</th>\n",
       "      <th></th>\n",
       "      <th></th>\n",
       "      <th></th>\n",
       "      <th></th>\n",
       "      <th></th>\n",
       "      <th></th>\n",
       "      <th></th>\n",
       "      <th></th>\n",
       "      <th></th>\n",
       "      <th></th>\n",
       "      <th></th>\n",
       "      <th></th>\n",
       "    </tr>\n",
       "  </thead>\n",
       "  <tbody>\n",
       "    <tr>\n",
       "      <th>284932</th>\n",
       "      <td>2012-01-19 09:00:00</td>\n",
       "      <td>2012-01-04 14:00:00</td>\n",
       "      <td>0.0</td>\n",
       "      <td>Responsible by Default</td>\n",
       "      <td>200.0</td>\n",
       "      <td>250.0</td>\n",
       "      <td>20.0</td>\n",
       "      <td>MI</td>\n",
       "      <td>22-2-61</td>\n",
       "      <td>42.407581</td>\n",
       "      <td>-82.986642</td>\n",
       "      <td>14</td>\n",
       "    </tr>\n",
       "    <tr>\n",
       "      <th>285362</th>\n",
       "      <td>2012-02-06 09:00:00</td>\n",
       "      <td>2012-01-05 09:50:00</td>\n",
       "      <td>0.0</td>\n",
       "      <td>Responsible by Default</td>\n",
       "      <td>1000.0</td>\n",
       "      <td>1130.0</td>\n",
       "      <td>100.0</td>\n",
       "      <td>MI</td>\n",
       "      <td>22-2-88(b)</td>\n",
       "      <td>42.426239</td>\n",
       "      <td>-83.238259</td>\n",
       "      <td>31</td>\n",
       "    </tr>\n",
       "    <tr>\n",
       "      <th>285361</th>\n",
       "      <td>2012-02-06 09:00:00</td>\n",
       "      <td>2012-01-05 09:50:00</td>\n",
       "      <td>0.0</td>\n",
       "      <td>Responsible by Default</td>\n",
       "      <td>100.0</td>\n",
       "      <td>140.0</td>\n",
       "      <td>10.0</td>\n",
       "      <td>MI</td>\n",
       "      <td>22-2-43</td>\n",
       "      <td>42.426239</td>\n",
       "      <td>-83.238259</td>\n",
       "      <td>31</td>\n",
       "    </tr>\n",
       "    <tr>\n",
       "      <th>285338</th>\n",
       "      <td>2012-02-07 09:00:00</td>\n",
       "      <td>2012-01-05 10:25:00</td>\n",
       "      <td>0.0</td>\n",
       "      <td>Responsible by Default</td>\n",
       "      <td>200.0</td>\n",
       "      <td>250.0</td>\n",
       "      <td>20.0</td>\n",
       "      <td>MI</td>\n",
       "      <td>22-2-88(b)</td>\n",
       "      <td>42.309661</td>\n",
       "      <td>-83.122426</td>\n",
       "      <td>32</td>\n",
       "    </tr>\n",
       "    <tr>\n",
       "      <th>285346</th>\n",
       "      <td>2012-02-14 09:00:00</td>\n",
       "      <td>2012-01-05 10:20:00</td>\n",
       "      <td>0.0</td>\n",
       "      <td>Responsible by Default</td>\n",
       "      <td>100.0</td>\n",
       "      <td>140.0</td>\n",
       "      <td>10.0</td>\n",
       "      <td>MI</td>\n",
       "      <td>22-2-45</td>\n",
       "      <td>42.308830</td>\n",
       "      <td>-83.121116</td>\n",
       "      <td>39</td>\n",
       "    </tr>\n",
       "  </tbody>\n",
       "</table>\n",
       "</div>"
      ],
      "text/plain": [
       "                 hearing_date  ticket_issued_date  discount_amount  \\\n",
       "ticket_id                                                            \n",
       "284932    2012-01-19 09:00:00 2012-01-04 14:00:00              0.0   \n",
       "285362    2012-02-06 09:00:00 2012-01-05 09:50:00              0.0   \n",
       "285361    2012-02-06 09:00:00 2012-01-05 09:50:00              0.0   \n",
       "285338    2012-02-07 09:00:00 2012-01-05 10:25:00              0.0   \n",
       "285346    2012-02-14 09:00:00 2012-01-05 10:20:00              0.0   \n",
       "\n",
       "                      disposition  fine_amount  judgment_amount  late_fee  \\\n",
       "ticket_id                                                                   \n",
       "284932     Responsible by Default        200.0            250.0      20.0   \n",
       "285362     Responsible by Default       1000.0           1130.0     100.0   \n",
       "285361     Responsible by Default        100.0            140.0      10.0   \n",
       "285338     Responsible by Default        200.0            250.0      20.0   \n",
       "285346     Responsible by Default        100.0            140.0      10.0   \n",
       "\n",
       "          state violation_code        lat        lon  date_diff  \n",
       "ticket_id                                                        \n",
       "284932       MI        22-2-61  42.407581 -82.986642         14  \n",
       "285362       MI     22-2-88(b)  42.426239 -83.238259         31  \n",
       "285361       MI        22-2-43  42.426239 -83.238259         31  \n",
       "285338       MI     22-2-88(b)  42.309661 -83.122426         32  \n",
       "285346       MI        22-2-45  42.308830 -83.121116         39  "
      ]
     },
     "execution_count": 17,
     "metadata": {},
     "output_type": "execute_result"
    }
   ],
   "source": [
    "test = format_df(test, mask)\n",
    "test.head()"
   ]
  },
  {
   "cell_type": "code",
   "execution_count": 18,
   "metadata": {},
   "outputs": [
    {
     "data": {
      "text/plain": [
       "(61001, 12)"
      ]
     },
     "execution_count": 18,
     "metadata": {},
     "output_type": "execute_result"
    }
   ],
   "source": [
    "test.shape"
   ]
  },
  {
   "cell_type": "code",
   "execution_count": 19,
   "metadata": {
    "collapsed": true
   },
   "outputs": [],
   "source": [
    "for column in test.columns:\n",
    "    test[column] = test[column].fillna(method = 'pad')\n",
    "    \n"
   ]
  },
  {
   "cell_type": "code",
   "execution_count": 20,
   "metadata": {},
   "outputs": [
    {
     "name": "stdout",
     "output_type": "stream",
     "text": [
      "<class 'pandas.core.frame.DataFrame'>\n",
      "Int64Index: 61001 entries, 284932 to 369851\n",
      "Data columns (total 12 columns):\n",
      "hearing_date          61001 non-null datetime64[ns]\n",
      "ticket_issued_date    61001 non-null datetime64[ns]\n",
      "discount_amount       61001 non-null float64\n",
      "disposition           61001 non-null object\n",
      "fine_amount           61001 non-null float64\n",
      "judgment_amount       61001 non-null float64\n",
      "late_fee              61001 non-null float64\n",
      "state                 61001 non-null object\n",
      "violation_code        61001 non-null object\n",
      "lat                   61001 non-null float64\n",
      "lon                   61001 non-null float64\n",
      "date_diff             61001 non-null int64\n",
      "dtypes: datetime64[ns](2), float64(6), int64(1), object(3)\n",
      "memory usage: 6.1+ MB\n"
     ]
    }
   ],
   "source": [
    "test.info()"
   ]
  },
  {
   "cell_type": "code",
   "execution_count": 21,
   "metadata": {
    "collapsed": true
   },
   "outputs": [],
   "source": [
    "#test['state'].fillna(method = 'pad')"
   ]
  },
  {
   "cell_type": "code",
   "execution_count": 22,
   "metadata": {
    "collapsed": true
   },
   "outputs": [],
   "source": [
    "# test[state].info()"
   ]
  },
  {
   "cell_type": "code",
   "execution_count": 23,
   "metadata": {
    "collapsed": true
   },
   "outputs": [],
   "source": [
    "for column in train.columns:\n",
    "    train[column] = train[column].fillna(method = 'pad')"
   ]
  },
  {
   "cell_type": "code",
   "execution_count": 24,
   "metadata": {},
   "outputs": [
    {
     "name": "stdout",
     "output_type": "stream",
     "text": [
      "<class 'pandas.core.frame.DataFrame'>\n",
      "Int64Index: 159880 entries, 22056 to 284333\n",
      "Data columns (total 13 columns):\n",
      "hearing_date          159880 non-null datetime64[ns]\n",
      "ticket_issued_date    159880 non-null datetime64[ns]\n",
      "discount_amount       159880 non-null float64\n",
      "disposition           159880 non-null object\n",
      "fine_amount           159880 non-null float64\n",
      "judgment_amount       159880 non-null float64\n",
      "late_fee              159880 non-null float64\n",
      "state                 159880 non-null object\n",
      "violation_code        159880 non-null object\n",
      "lat                   159880 non-null float64\n",
      "lon                   159880 non-null float64\n",
      "compliance            159880 non-null int32\n",
      "date_diff             159880 non-null int64\n",
      "dtypes: datetime64[ns](2), float64(6), int32(1), int64(1), object(3)\n",
      "memory usage: 16.5+ MB\n"
     ]
    }
   ],
   "source": [
    "train.info()"
   ]
  },
  {
   "cell_type": "code",
   "execution_count": 25,
   "metadata": {
    "collapsed": true
   },
   "outputs": [],
   "source": [
    "#train['violation_code'].value_counts()"
   ]
  },
  {
   "cell_type": "code",
   "execution_count": 26,
   "metadata": {},
   "outputs": [
    {
     "data": {
      "text/plain": [
       "['discount_amount',\n",
       " 'disposition',\n",
       " 'fine_amount',\n",
       " 'judgment_amount',\n",
       " 'late_fee',\n",
       " 'state',\n",
       " 'violation_code',\n",
       " 'compliance']"
      ]
     },
     "execution_count": 26,
     "metadata": {},
     "output_type": "execute_result"
    }
   ],
   "source": [
    "# Create features to remove from our mask\n",
    "# Create the mask variables with all the variables you want to use\n",
    "remove = {'hearing_date', \n",
    "        'ticket_issued_date',\n",
    "        'lat',\n",
    "        'lon'}\n",
    "\n",
    "category_mask = [i for i in mask if i not in remove]\n",
    "category_mask"
   ]
  },
  {
   "cell_type": "code",
   "execution_count": 27,
   "metadata": {
    "collapsed": true
   },
   "outputs": [],
   "source": [
    "train[category_mask] = train[category_mask].astype('category')"
   ]
  },
  {
   "cell_type": "code",
   "execution_count": 28,
   "metadata": {},
   "outputs": [
    {
     "name": "stdout",
     "output_type": "stream",
     "text": [
      "<class 'pandas.core.frame.DataFrame'>\n",
      "Int64Index: 159880 entries, 22056 to 284333\n",
      "Data columns (total 13 columns):\n",
      "hearing_date          159880 non-null datetime64[ns]\n",
      "ticket_issued_date    159880 non-null datetime64[ns]\n",
      "discount_amount       159880 non-null category\n",
      "disposition           159880 non-null category\n",
      "fine_amount           159880 non-null category\n",
      "judgment_amount       159880 non-null category\n",
      "late_fee              159880 non-null category\n",
      "state                 159880 non-null category\n",
      "violation_code        159880 non-null category\n",
      "lat                   159880 non-null float64\n",
      "lon                   159880 non-null float64\n",
      "compliance            159880 non-null category\n",
      "date_diff             159880 non-null int64\n",
      "dtypes: category(8), datetime64[ns](2), float64(2), int64(1)\n",
      "memory usage: 8.7 MB\n"
     ]
    }
   ],
   "source": [
    "train.info()"
   ]
  },
  {
   "cell_type": "code",
   "execution_count": 29,
   "metadata": {
    "collapsed": true
   },
   "outputs": [],
   "source": [
    "test[category_mask[:-1]] = test[category_mask[:-1]].astype('category')"
   ]
  },
  {
   "cell_type": "code",
   "execution_count": 30,
   "metadata": {},
   "outputs": [
    {
     "name": "stdout",
     "output_type": "stream",
     "text": [
      "<class 'pandas.core.frame.DataFrame'>\n",
      "Int64Index: 61001 entries, 284932 to 369851\n",
      "Data columns (total 12 columns):\n",
      "hearing_date          61001 non-null datetime64[ns]\n",
      "ticket_issued_date    61001 non-null datetime64[ns]\n",
      "discount_amount       61001 non-null category\n",
      "disposition           61001 non-null category\n",
      "fine_amount           61001 non-null category\n",
      "judgment_amount       61001 non-null category\n",
      "late_fee              61001 non-null category\n",
      "state                 61001 non-null category\n",
      "violation_code        61001 non-null category\n",
      "lat                   61001 non-null float64\n",
      "lon                   61001 non-null float64\n",
      "date_diff             61001 non-null int64\n",
      "dtypes: category(7), datetime64[ns](2), float64(2), int64(1)\n",
      "memory usage: 3.4 MB\n"
     ]
    }
   ],
   "source": [
    "test.info()"
   ]
  },
  {
   "cell_type": "code",
   "execution_count": 31,
   "metadata": {
    "collapsed": true
   },
   "outputs": [],
   "source": [
    "def assign_categories(df, mask, remove):\n",
    "    \"\"\"\n",
    "    \n",
    "    \"\"\"\n",
    "    \n",
    "    # Create dataframe copy\n",
    "    df = df.copy()\n",
    "    \n",
    "    # Define mask for categories\n",
    "    category_mask = [i for i in mask if i not in remove]\n",
    "    \n",
    "    # Convert features into categories\n",
    "    try:\n",
    "        df[category_mask] = df[category_mask].astype('category')\n",
    "    except:\n",
    "        df[category_mask[:-1]] = df[category_mask[:-1]].astype('category')\n",
    "    \n",
    "    # Return dataframe\n",
    "    return df"
   ]
  },
  {
   "cell_type": "code",
   "execution_count": 32,
   "metadata": {},
   "outputs": [
    {
     "name": "stdout",
     "output_type": "stream",
     "text": [
      "<class 'pandas.core.frame.DataFrame'>\n",
      "Int64Index: 159880 entries, 22056 to 284333\n",
      "Data columns (total 13 columns):\n",
      "hearing_date          159880 non-null datetime64[ns]\n",
      "ticket_issued_date    159880 non-null datetime64[ns]\n",
      "discount_amount       159880 non-null category\n",
      "disposition           159880 non-null category\n",
      "fine_amount           159880 non-null category\n",
      "judgment_amount       159880 non-null category\n",
      "late_fee              159880 non-null category\n",
      "state                 159880 non-null category\n",
      "violation_code        159880 non-null category\n",
      "lat                   159880 non-null float64\n",
      "lon                   159880 non-null float64\n",
      "compliance            159880 non-null category\n",
      "date_diff             159880 non-null int64\n",
      "dtypes: category(8), datetime64[ns](2), float64(2), int64(1)\n",
      "memory usage: 8.7 MB\n"
     ]
    }
   ],
   "source": [
    "train  = assign_categories(train, mask, remove)\n",
    "train.info()"
   ]
  },
  {
   "cell_type": "code",
   "execution_count": 33,
   "metadata": {},
   "outputs": [
    {
     "name": "stdout",
     "output_type": "stream",
     "text": [
      "<class 'pandas.core.frame.DataFrame'>\n",
      "Int64Index: 61001 entries, 284932 to 369851\n",
      "Data columns (total 12 columns):\n",
      "hearing_date          61001 non-null datetime64[ns]\n",
      "ticket_issued_date    61001 non-null datetime64[ns]\n",
      "discount_amount       61001 non-null category\n",
      "disposition           61001 non-null category\n",
      "fine_amount           61001 non-null category\n",
      "judgment_amount       61001 non-null category\n",
      "late_fee              61001 non-null category\n",
      "state                 61001 non-null category\n",
      "violation_code        61001 non-null category\n",
      "lat                   61001 non-null float64\n",
      "lon                   61001 non-null float64\n",
      "date_diff             61001 non-null int64\n",
      "dtypes: category(7), datetime64[ns](2), float64(2), int64(1)\n",
      "memory usage: 3.4 MB\n"
     ]
    }
   ],
   "source": [
    "test  = assign_categories(test, mask, remove)\n",
    "test.info()"
   ]
  },
  {
   "cell_type": "code",
   "execution_count": 34,
   "metadata": {
    "collapsed": true
   },
   "outputs": [],
   "source": [
    "y_train = train['compliance'].copy()"
   ]
  },
  {
   "cell_type": "code",
   "execution_count": 35,
   "metadata": {},
   "outputs": [
    {
     "data": {
      "text/plain": [
       "0    148283\n",
       "1     11597\n",
       "Name: compliance, dtype: int64"
      ]
     },
     "execution_count": 35,
     "metadata": {},
     "output_type": "execute_result"
    }
   ],
   "source": [
    "y_train.value_counts()"
   ]
  },
  {
   "cell_type": "code",
   "execution_count": 36,
   "metadata": {},
   "outputs": [
    {
     "data": {
      "text/plain": [
       "(159880,)"
      ]
     },
     "execution_count": 36,
     "metadata": {},
     "output_type": "execute_result"
    }
   ],
   "source": [
    "y_train.shape"
   ]
  },
  {
   "cell_type": "code",
   "execution_count": 37,
   "metadata": {
    "collapsed": true
   },
   "outputs": [],
   "source": [
    "X_train = train.drop('compliance', axis = 1).copy()"
   ]
  },
  {
   "cell_type": "code",
   "execution_count": 38,
   "metadata": {},
   "outputs": [
    {
     "name": "stdout",
     "output_type": "stream",
     "text": [
      "<class 'pandas.core.frame.DataFrame'>\n",
      "Int64Index: 159880 entries, 22056 to 284333\n",
      "Data columns (total 12 columns):\n",
      "hearing_date          159880 non-null datetime64[ns]\n",
      "ticket_issued_date    159880 non-null datetime64[ns]\n",
      "discount_amount       159880 non-null category\n",
      "disposition           159880 non-null category\n",
      "fine_amount           159880 non-null category\n",
      "judgment_amount       159880 non-null category\n",
      "late_fee              159880 non-null category\n",
      "state                 159880 non-null category\n",
      "violation_code        159880 non-null category\n",
      "lat                   159880 non-null float64\n",
      "lon                   159880 non-null float64\n",
      "date_diff             159880 non-null int64\n",
      "dtypes: category(7), datetime64[ns](2), float64(2), int64(1)\n",
      "memory usage: 8.6 MB\n"
     ]
    }
   ],
   "source": [
    "X_train.info()"
   ]
  },
  {
   "cell_type": "code",
   "execution_count": 39,
   "metadata": {
    "collapsed": true
   },
   "outputs": [],
   "source": [
    "X_test = test.copy()"
   ]
  },
  {
   "cell_type": "code",
   "execution_count": 40,
   "metadata": {},
   "outputs": [
    {
     "name": "stdout",
     "output_type": "stream",
     "text": [
      "<class 'pandas.core.frame.DataFrame'>\n",
      "Int64Index: 61001 entries, 284932 to 369851\n",
      "Data columns (total 12 columns):\n",
      "hearing_date          61001 non-null datetime64[ns]\n",
      "ticket_issued_date    61001 non-null datetime64[ns]\n",
      "discount_amount       61001 non-null category\n",
      "disposition           61001 non-null category\n",
      "fine_amount           61001 non-null category\n",
      "judgment_amount       61001 non-null category\n",
      "late_fee              61001 non-null category\n",
      "state                 61001 non-null category\n",
      "violation_code        61001 non-null category\n",
      "lat                   61001 non-null float64\n",
      "lon                   61001 non-null float64\n",
      "date_diff             61001 non-null int64\n",
      "dtypes: category(7), datetime64[ns](2), float64(2), int64(1)\n",
      "memory usage: 3.4 MB\n"
     ]
    }
   ],
   "source": [
    "X_test.info()"
   ]
  },
  {
   "cell_type": "code",
   "execution_count": null,
   "metadata": {
    "collapsed": true
   },
   "outputs": [],
   "source": [
    "\n",
    "\n",
    "    \n",
    "\n",
    "        \n",
    "\n"
   ]
  },
  {
   "cell_type": "code",
   "execution_count": 41,
   "metadata": {},
   "outputs": [
    {
     "data": {
      "text/plain": [
       "[False,\n",
       " False,\n",
       " False,\n",
       " False,\n",
       " False,\n",
       " False,\n",
       " False,\n",
       " False,\n",
       " False,\n",
       " True,\n",
       " True,\n",
       " True]"
      ]
     },
     "execution_count": 41,
     "metadata": {},
     "output_type": "execute_result"
    }
   ],
   "source": [
    "df_dtypes = np.array(X_train.dtypes)\n",
    "df_numericDtypes= [x.kind in 'bifc' for x in df_dtypes]\n",
    "df_numericDtypes"
   ]
  },
  {
   "cell_type": "code",
   "execution_count": 42,
   "metadata": {},
   "outputs": [
    {
     "data": {
      "text/plain": [
       "Index(['discount_amount', 'disposition', 'fine_amount', 'judgment_amount',\n",
       "       'late_fee', 'state', 'violation_code'],\n",
       "      dtype='object')"
      ]
     },
     "execution_count": 42,
     "metadata": {},
     "output_type": "execute_result"
    }
   ],
   "source": [
    "X_train.select_dtypes(include=['category']).columns"
   ]
  },
  {
   "cell_type": "code",
   "execution_count": 43,
   "metadata": {},
   "outputs": [
    {
     "data": {
      "text/plain": [
       "discount_amount    category\n",
       "disposition        category\n",
       "fine_amount        category\n",
       "judgment_amount    category\n",
       "late_fee           category\n",
       "state              category\n",
       "violation_code     category\n",
       "dtype: object"
      ]
     },
     "execution_count": 43,
     "metadata": {},
     "output_type": "execute_result"
    }
   ],
   "source": [
    "X_train.dtypes[X_train.dtypes != 'int64'][X_train.dtypes != 'float64'][X_train.dtypes != 'datetime64[ns]']  "
   ]
  },
  {
   "cell_type": "code",
   "execution_count": null,
   "metadata": {
    "collapsed": true
   },
   "outputs": [],
   "source": []
  },
  {
   "cell_type": "code",
   "execution_count": null,
   "metadata": {
    "collapsed": true
   },
   "outputs": [],
   "source": []
  },
  {
   "cell_type": "code",
   "execution_count": 44,
   "metadata": {
    "collapsed": true
   },
   "outputs": [],
   "source": [
    "#label_encoder = LabelEncoder()\n",
    "#label_encoder.fit(X_train['discount_amount'].append(X_test['discount_amount'], ignore_index=True))\n",
    "#X_train['discount_amount'] = label_encoder.transform(X_train['discount_amount'])\n",
    "#X_test['discount_amount'] = label_encoder.transform(X_test['discount_amount'])"
   ]
  },
  {
   "cell_type": "code",
   "execution_count": 45,
   "metadata": {
    "collapsed": true
   },
   "outputs": [],
   "source": [
    "#X_test['discount_amount'].dtype"
   ]
  },
  {
   "cell_type": "code",
   "execution_count": 46,
   "metadata": {
    "collapsed": true
   },
   "outputs": [],
   "source": [
    "label_encoder = LabelEncoder()\n",
    "\n",
    "for col in X_train.select_dtypes(include=['category']).columns:\n",
    "    label_encoder.fit(X_train[col].append(X_test[col], ignore_index = True))\n",
    "    X_train[col] = label_encoder.transform(X_train[col])\n",
    "    X_test[col] = label_encoder.transform(X_test[col])\n",
    "    \n",
    "    \n",
    "\n"
   ]
  },
  {
   "cell_type": "code",
   "execution_count": 47,
   "metadata": {},
   "outputs": [
    {
     "data": {
      "text/html": [
       "<div>\n",
       "<style scoped>\n",
       "    .dataframe tbody tr th:only-of-type {\n",
       "        vertical-align: middle;\n",
       "    }\n",
       "\n",
       "    .dataframe tbody tr th {\n",
       "        vertical-align: top;\n",
       "    }\n",
       "\n",
       "    .dataframe thead th {\n",
       "        text-align: right;\n",
       "    }\n",
       "</style>\n",
       "<table border=\"1\" class=\"dataframe\">\n",
       "  <thead>\n",
       "    <tr style=\"text-align: right;\">\n",
       "      <th></th>\n",
       "      <th>discount_amount</th>\n",
       "      <th>disposition</th>\n",
       "      <th>fine_amount</th>\n",
       "      <th>judgment_amount</th>\n",
       "      <th>late_fee</th>\n",
       "      <th>state</th>\n",
       "      <th>violation_code</th>\n",
       "      <th>lat</th>\n",
       "      <th>lon</th>\n",
       "      <th>date_diff</th>\n",
       "    </tr>\n",
       "    <tr>\n",
       "      <th>ticket_id</th>\n",
       "      <th></th>\n",
       "      <th></th>\n",
       "      <th></th>\n",
       "      <th></th>\n",
       "      <th></th>\n",
       "      <th></th>\n",
       "      <th></th>\n",
       "      <th></th>\n",
       "      <th></th>\n",
       "      <th></th>\n",
       "    </tr>\n",
       "  </thead>\n",
       "  <tbody>\n",
       "    <tr>\n",
       "      <th>22056</th>\n",
       "      <td>0</td>\n",
       "      <td>5</td>\n",
       "      <td>20</td>\n",
       "      <td>51</td>\n",
       "      <td>17</td>\n",
       "      <td>16</td>\n",
       "      <td>175</td>\n",
       "      <td>42.390729</td>\n",
       "      <td>-83.124268</td>\n",
       "      <td>369</td>\n",
       "    </tr>\n",
       "    <tr>\n",
       "      <th>27586</th>\n",
       "      <td>0</td>\n",
       "      <td>6</td>\n",
       "      <td>42</td>\n",
       "      <td>222</td>\n",
       "      <td>35</td>\n",
       "      <td>24</td>\n",
       "      <td>98</td>\n",
       "      <td>42.326937</td>\n",
       "      <td>-83.135118</td>\n",
       "      <td>378</td>\n",
       "    </tr>\n",
       "    <tr>\n",
       "      <th>22046</th>\n",
       "      <td>0</td>\n",
       "      <td>5</td>\n",
       "      <td>20</td>\n",
       "      <td>51</td>\n",
       "      <td>17</td>\n",
       "      <td>6</td>\n",
       "      <td>175</td>\n",
       "      <td>42.145257</td>\n",
       "      <td>-83.208233</td>\n",
       "      <td>323</td>\n",
       "    </tr>\n",
       "    <tr>\n",
       "      <th>18738</th>\n",
       "      <td>0</td>\n",
       "      <td>5</td>\n",
       "      <td>42</td>\n",
       "      <td>222</td>\n",
       "      <td>35</td>\n",
       "      <td>24</td>\n",
       "      <td>97</td>\n",
       "      <td>42.433466</td>\n",
       "      <td>-83.023493</td>\n",
       "      <td>253</td>\n",
       "    </tr>\n",
       "    <tr>\n",
       "      <th>18735</th>\n",
       "      <td>0</td>\n",
       "      <td>5</td>\n",
       "      <td>11</td>\n",
       "      <td>18</td>\n",
       "      <td>9</td>\n",
       "      <td>24</td>\n",
       "      <td>96</td>\n",
       "      <td>42.388641</td>\n",
       "      <td>-83.037858</td>\n",
       "      <td>251</td>\n",
       "    </tr>\n",
       "  </tbody>\n",
       "</table>\n",
       "</div>"
      ],
      "text/plain": [
       "           discount_amount  disposition  fine_amount  judgment_amount  \\\n",
       "ticket_id                                                               \n",
       "22056                    0            5           20               51   \n",
       "27586                    0            6           42              222   \n",
       "22046                    0            5           20               51   \n",
       "18738                    0            5           42              222   \n",
       "18735                    0            5           11               18   \n",
       "\n",
       "           late_fee  state  violation_code        lat        lon  date_diff  \n",
       "ticket_id                                                                    \n",
       "22056            17     16             175  42.390729 -83.124268        369  \n",
       "27586            35     24              98  42.326937 -83.135118        378  \n",
       "22046            17      6             175  42.145257 -83.208233        323  \n",
       "18738            35     24              97  42.433466 -83.023493        253  \n",
       "18735             9     24              96  42.388641 -83.037858        251  "
      ]
     },
     "execution_count": 47,
     "metadata": {},
     "output_type": "execute_result"
    }
   ],
   "source": [
    "X_train = X_train.drop(['hearing_date', 'ticket_issued_date'], axis = 1)\n",
    "X_train.head()"
   ]
  },
  {
   "cell_type": "code",
   "execution_count": 48,
   "metadata": {},
   "outputs": [
    {
     "data": {
      "text/html": [
       "<div>\n",
       "<style scoped>\n",
       "    .dataframe tbody tr th:only-of-type {\n",
       "        vertical-align: middle;\n",
       "    }\n",
       "\n",
       "    .dataframe tbody tr th {\n",
       "        vertical-align: top;\n",
       "    }\n",
       "\n",
       "    .dataframe thead th {\n",
       "        text-align: right;\n",
       "    }\n",
       "</style>\n",
       "<table border=\"1\" class=\"dataframe\">\n",
       "  <thead>\n",
       "    <tr style=\"text-align: right;\">\n",
       "      <th></th>\n",
       "      <th>discount_amount</th>\n",
       "      <th>disposition</th>\n",
       "      <th>fine_amount</th>\n",
       "      <th>judgment_amount</th>\n",
       "      <th>late_fee</th>\n",
       "      <th>state</th>\n",
       "      <th>violation_code</th>\n",
       "      <th>lat</th>\n",
       "      <th>lon</th>\n",
       "      <th>date_diff</th>\n",
       "    </tr>\n",
       "    <tr>\n",
       "      <th>ticket_id</th>\n",
       "      <th></th>\n",
       "      <th></th>\n",
       "      <th></th>\n",
       "      <th></th>\n",
       "      <th></th>\n",
       "      <th></th>\n",
       "      <th></th>\n",
       "      <th></th>\n",
       "      <th></th>\n",
       "      <th></th>\n",
       "    </tr>\n",
       "  </thead>\n",
       "  <tbody>\n",
       "    <tr>\n",
       "      <th>284932</th>\n",
       "      <td>0</td>\n",
       "      <td>5</td>\n",
       "      <td>17</td>\n",
       "      <td>39</td>\n",
       "      <td>15</td>\n",
       "      <td>24</td>\n",
       "      <td>38</td>\n",
       "      <td>42.407581</td>\n",
       "      <td>-82.986642</td>\n",
       "      <td>14</td>\n",
       "    </tr>\n",
       "    <tr>\n",
       "      <th>285362</th>\n",
       "      <td>0</td>\n",
       "      <td>5</td>\n",
       "      <td>45</td>\n",
       "      <td>273</td>\n",
       "      <td>38</td>\n",
       "      <td>24</td>\n",
       "      <td>57</td>\n",
       "      <td>42.426239</td>\n",
       "      <td>-83.238259</td>\n",
       "      <td>31</td>\n",
       "    </tr>\n",
       "    <tr>\n",
       "      <th>285361</th>\n",
       "      <td>0</td>\n",
       "      <td>5</td>\n",
       "      <td>11</td>\n",
       "      <td>18</td>\n",
       "      <td>9</td>\n",
       "      <td>24</td>\n",
       "      <td>25</td>\n",
       "      <td>42.426239</td>\n",
       "      <td>-83.238259</td>\n",
       "      <td>31</td>\n",
       "    </tr>\n",
       "    <tr>\n",
       "      <th>285338</th>\n",
       "      <td>0</td>\n",
       "      <td>5</td>\n",
       "      <td>17</td>\n",
       "      <td>39</td>\n",
       "      <td>15</td>\n",
       "      <td>24</td>\n",
       "      <td>57</td>\n",
       "      <td>42.309661</td>\n",
       "      <td>-83.122426</td>\n",
       "      <td>32</td>\n",
       "    </tr>\n",
       "    <tr>\n",
       "      <th>285346</th>\n",
       "      <td>0</td>\n",
       "      <td>5</td>\n",
       "      <td>11</td>\n",
       "      <td>18</td>\n",
       "      <td>9</td>\n",
       "      <td>24</td>\n",
       "      <td>27</td>\n",
       "      <td>42.308830</td>\n",
       "      <td>-83.121116</td>\n",
       "      <td>39</td>\n",
       "    </tr>\n",
       "  </tbody>\n",
       "</table>\n",
       "</div>"
      ],
      "text/plain": [
       "           discount_amount  disposition  fine_amount  judgment_amount  \\\n",
       "ticket_id                                                               \n",
       "284932                   0            5           17               39   \n",
       "285362                   0            5           45              273   \n",
       "285361                   0            5           11               18   \n",
       "285338                   0            5           17               39   \n",
       "285346                   0            5           11               18   \n",
       "\n",
       "           late_fee  state  violation_code        lat        lon  date_diff  \n",
       "ticket_id                                                                    \n",
       "284932           15     24              38  42.407581 -82.986642         14  \n",
       "285362           38     24              57  42.426239 -83.238259         31  \n",
       "285361            9     24              25  42.426239 -83.238259         31  \n",
       "285338           15     24              57  42.309661 -83.122426         32  \n",
       "285346            9     24              27  42.308830 -83.121116         39  "
      ]
     },
     "execution_count": 48,
     "metadata": {},
     "output_type": "execute_result"
    }
   ],
   "source": [
    "X_test = X_test.drop(['hearing_date', 'ticket_issued_date'], axis = 1)\n",
    "X_test.head()"
   ]
  },
  {
   "cell_type": "code",
   "execution_count": 49,
   "metadata": {
    "collapsed": true
   },
   "outputs": [],
   "source": [
    " X_trainer, X_tester, y_trainer, y_tester = train_test_split(X_train, y_train)"
   ]
  },
  {
   "cell_type": "code",
   "execution_count": 50,
   "metadata": {},
   "outputs": [
    {
     "data": {
      "text/plain": [
       "\"\\nregr_rf = RandomForestRegressor()\\ngrid_values = {'n_estimators': [10, 100], 'max_depth': [None, 30]}\\ngrid_clf_auc = GridSearchCV(regr_, y_train)\\nprint('Grid best parametrf, param_grid=grid_values, scoring='roc_auc')\\ngrid_clf_auc.fit(X_train (max. AUC): ', grid_clf_auc.best_params_)\\nprint('Grid best score (AUC): ', grid_clf_auc.best_score_)\\n\\npd.Series(grid_clf_auc.predict(X_test), index=X_test.index)\\n\""
      ]
     },
     "execution_count": 50,
     "metadata": {},
     "output_type": "execute_result"
    }
   ],
   "source": [
    "\"\"\"\n",
    "regr_rf = RandomForestRegressor()\n",
    "grid_values = {'n_estimators': [10, 100], 'max_depth': [None, 30]}\n",
    "grid_clf_auc = GridSearchCV(regr_, y_train)\n",
    "print('Grid best parametrf, param_grid=grid_values, scoring='roc_auc')\n",
    "grid_clf_auc.fit(X_train (max. AUC): ', grid_clf_auc.best_params_)\n",
    "print('Grid best score (AUC): ', grid_clf_auc.best_score_)\n",
    "\n",
    "pd.Series(grid_clf_auc.predict(X_test), index=X_test.index)\n",
    "\"\"\""
   ]
  },
  {
   "cell_type": "code",
   "execution_count": 51,
   "metadata": {},
   "outputs": [
    {
     "data": {
      "text/plain": [
       "\"\\nregr_rf = RandomForestRegressor()\\ngrid_values = {'n_estimators': [10, 100], 'max_depth': [None, 30]}\\ngrid_clf_auc = GridSearchCV(regr_rf, param_grid=grid_values, scoring='roc_auc')\\ngrid_clf_auc.fit(X_trainer, y_trainer)\\nprint('Grid best parameter (max. AUC): ', grid_clf_auc.best_params_)\\nprint('Grid best score (AUC): ', grid_clf_auc.best_score_)\\n    \\npd.Series(grid_clf_auc.predict(X_test),index=X_test.index)\\n\""
      ]
     },
     "execution_count": 51,
     "metadata": {},
     "output_type": "execute_result"
    }
   ],
   "source": [
    "\"\"\"\n",
    "regr_rf = RandomForestRegressor()\n",
    "grid_values = {'n_estimators': [10, 100], 'max_depth': [None, 30]}\n",
    "grid_clf_auc = GridSearchCV(regr_rf, param_grid=grid_values, scoring='roc_auc')\n",
    "grid_clf_auc.fit(X_trainer, y_trainer)\n",
    "print('Grid best parameter (max. AUC): ', grid_clf_auc.best_params_)\n",
    "print('Grid best score (AUC): ', grid_clf_auc.best_score_)\n",
    "    \n",
    "pd.Series(grid_clf_auc.predict(X_test),index=X_test.index)\n",
    "\"\"\""
   ]
  },
  {
   "cell_type": "code",
   "execution_count": null,
   "metadata": {
    "collapsed": true
   },
   "outputs": [],
   "source": []
  },
  {
   "cell_type": "code",
   "execution_count": null,
   "metadata": {
    "collapsed": true
   },
   "outputs": [],
   "source": []
  },
  {
   "cell_type": "code",
   "execution_count": null,
   "metadata": {
    "collapsed": true
   },
   "outputs": [],
   "source": []
  },
  {
   "cell_type": "code",
   "execution_count": null,
   "metadata": {
    "collapsed": true
   },
   "outputs": [],
   "source": []
  }
 ],
 "metadata": {
  "coursera": {
   "course_slug": "python-machine-learning",
   "graded_item_id": "nNS8l",
   "launcher_item_id": "yWWk7",
   "part_id": "w8BSS"
  },
  "kernelspec": {
   "display_name": "Python [default]",
   "language": "python",
   "name": "python3"
  },
  "language_info": {
   "codemirror_mode": {
    "name": "ipython",
    "version": 3
   },
   "file_extension": ".py",
   "mimetype": "text/x-python",
   "name": "python",
   "nbconvert_exporter": "python",
   "pygments_lexer": "ipython3",
   "version": "3.5.6"
  }
 },
 "nbformat": 4,
 "nbformat_minor": 2
}
